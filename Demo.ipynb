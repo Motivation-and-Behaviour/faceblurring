{
 "cells": [
  {
   "cell_type": "code",
   "execution_count": 1,
   "id": "affiliated-karma",
   "metadata": {},
   "outputs": [],
   "source": [
    "import faceblurring.faceblurring"
   ]
  },
  {
   "cell_type": "code",
   "execution_count": 2,
   "id": "arabic-smooth",
   "metadata": {},
   "outputs": [],
   "source": [
    "test = faceblurring.faceblurring.FaceBlurer()"
   ]
  },
  {
   "cell_type": "code",
   "execution_count": 3,
   "id": "seventh-playlist",
   "metadata": {},
   "outputs": [],
   "source": [
    "img = r\"C:\\Users\\taren\\Documents\\face_small\\CC4B73632D38_2021_0209_143404_405_0205.jpg\"\n",
    "folder_1 = r\"C:\\Users\\taren\\Documents\\face_small1\"\n",
    "folder_2 = r\"C:\\Users\\taren\\Documents\\face_small2\"\n",
    "folder_3 = r\"C:\\Users\\taren\\Documents\\face_small3\"\n",
    "folder_4 = r\"C:\\Users\\taren\\Documents\\face_small4\"\n",
    "folder_5 = r\"C:\\Users\\taren\\Documents\\face_small5\"\n",
    "folder_6 = r\"C:\\Users\\taren\\Documents\\face_small6\""
   ]
  },
  {
   "cell_type": "code",
   "execution_count": 4,
   "id": "heard-tragedy",
   "metadata": {},
   "outputs": [],
   "source": [
    "batch_size = 32"
   ]
  },
  {
   "cell_type": "code",
   "execution_count": 7,
   "id": "academic-payday",
   "metadata": {},
   "outputs": [
    {
     "name": "stdout",
     "output_type": "stream",
     "text": [
      "Wall time: 8.19 s\n"
     ]
    }
   ],
   "source": [
    "%%time\n",
    "#IMGSIZE = 416\n",
    "test.process_batch(folder_1, batch_size=batch_size,replace=False)"
   ]
  },
  {
   "cell_type": "code",
   "execution_count": 8,
   "id": "norwegian-track",
   "metadata": {},
   "outputs": [
    {
     "name": "stderr",
     "output_type": "stream",
     "text": [
      "Working on file: CC4B73632D38_2021_0210_144434_434_0006.jpg: 100%|█████████████████████| 43/43 [00:09<00:00,  4.59it/s]"
     ]
    },
    {
     "name": "stdout",
     "output_type": "stream",
     "text": [
      "Wall time: 9.38 s\n"
     ]
    },
    {
     "name": "stderr",
     "output_type": "stream",
     "text": [
      "\n"
     ]
    }
   ],
   "source": [
    "%%time\n",
    "#IMGSIZE = 416\n",
    "test.process_folder(folder_2, parallel=False)"
   ]
  },
  {
   "cell_type": "code",
   "execution_count": 5,
   "id": "arctic-supervision",
   "metadata": {},
   "outputs": [
    {
     "name": "stdout",
     "output_type": "stream",
     "text": [
      "Wall time: 5.53 s\n"
     ]
    }
   ],
   "source": [
    "%%time\n",
    "#IMGSIZE = 320\n",
    "test.process_batch(folder_3, batch_size=batch_size,replace=False)"
   ]
  },
  {
   "cell_type": "code",
   "execution_count": 6,
   "id": "conditional-breakdown",
   "metadata": {},
   "outputs": [
    {
     "name": "stderr",
     "output_type": "stream",
     "text": [
      "Working on file: CC4B73632D38_2021_0210_144434_434_0006.jpg: 100%|█████████████████████| 43/43 [00:06<00:00,  6.87it/s]"
     ]
    },
    {
     "name": "stdout",
     "output_type": "stream",
     "text": [
      "Wall time: 6.26 s\n"
     ]
    },
    {
     "name": "stderr",
     "output_type": "stream",
     "text": [
      "\n"
     ]
    }
   ],
   "source": [
    "%%time\n",
    "#IMGSIZE = 320\n",
    "test.process_folder(folder_4, parallel=False)"
   ]
  },
  {
   "cell_type": "code",
   "execution_count": 5,
   "id": "seven-comedy",
   "metadata": {},
   "outputs": [
    {
     "name": "stdout",
     "output_type": "stream",
     "text": [
      "Wall time: 4.8 s\n"
     ]
    }
   ],
   "source": [
    "%%time\n",
    "#IMGSIZE = 288\n",
    "test.process_batch(folder_5, batch_size=batch_size,replace=False)"
   ]
  },
  {
   "cell_type": "code",
   "execution_count": 6,
   "id": "statutory-persian",
   "metadata": {},
   "outputs": [
    {
     "name": "stderr",
     "output_type": "stream",
     "text": [
      "Working on file: CC4B73632D38_2021_0210_144434_434_0006.jpg: 100%|█████████████████████| 43/43 [00:05<00:00,  7.71it/s]"
     ]
    },
    {
     "name": "stdout",
     "output_type": "stream",
     "text": [
      "Wall time: 5.58 s\n"
     ]
    },
    {
     "name": "stderr",
     "output_type": "stream",
     "text": [
      "\n"
     ]
    }
   ],
   "source": [
    "%%time\n",
    "#IMGSIZE = 288\n",
    "test.process_folder(folder_6, parallel=False)"
   ]
  }
 ],
 "metadata": {
  "kernelspec": {
   "display_name": "Python 3",
   "language": "python",
   "name": "python3"
  },
  "language_info": {
   "codemirror_mode": {
    "name": "ipython",
    "version": 3
   },
   "file_extension": ".py",
   "mimetype": "text/x-python",
   "name": "python",
   "nbconvert_exporter": "python",
   "pygments_lexer": "ipython3",
   "version": "3.7.9"
  }
 },
 "nbformat": 4,
 "nbformat_minor": 5
}

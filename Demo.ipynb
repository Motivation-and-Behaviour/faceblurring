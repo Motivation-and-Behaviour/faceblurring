{
 "cells": [
  {
   "cell_type": "code",
   "execution_count": 1,
   "id": "affiliated-karma",
   "metadata": {},
   "outputs": [],
   "source": [
    "import faceblurring.faceblurring"
   ]
  },
  {
   "cell_type": "code",
   "execution_count": 2,
   "id": "arabic-smooth",
   "metadata": {},
   "outputs": [
    {
     "ename": "AttributeError",
     "evalue": "module 'cv2.dnn' has no attribute 'DNN_BACKEND_CUDA'",
     "output_type": "error",
     "traceback": [
      "\u001b[1;31m---------------------------------------------------------------------------\u001b[0m",
      "\u001b[1;31mAttributeError\u001b[0m                            Traceback (most recent call last)",
      "\u001b[1;32m~\\AppData\\Local\\Temp/ipykernel_29896/2459280918.py\u001b[0m in \u001b[0;36m<module>\u001b[1;34m\u001b[0m\n\u001b[1;32m----> 1\u001b[1;33m \u001b[0mtest\u001b[0m \u001b[1;33m=\u001b[0m \u001b[0mfaceblurring\u001b[0m\u001b[1;33m.\u001b[0m\u001b[0mfaceblurring\u001b[0m\u001b[1;33m.\u001b[0m\u001b[0mFaceBlurer\u001b[0m\u001b[1;33m(\u001b[0m\u001b[1;33m)\u001b[0m\u001b[1;33m\u001b[0m\u001b[1;33m\u001b[0m\u001b[0m\n\u001b[0m",
      "\u001b[1;32m~\\GitHub\\faceblurring\\faceblurring\\faceblurring.py\u001b[0m in \u001b[0;36m__init__\u001b[1;34m(self, config_path, weights_path)\u001b[0m\n\u001b[0;32m     29\u001b[0m         \u001b[1;31m# self.net.setPreferableBackend(cv2.dnn.DNN_BACKEND_OPENCV)\u001b[0m\u001b[1;33m\u001b[0m\u001b[1;33m\u001b[0m\u001b[1;33m\u001b[0m\u001b[0m\n\u001b[0;32m     30\u001b[0m         \u001b[1;31m# self.net.setPreferableTarget(cv2.dnn.DNN_TARGET_CPU)\u001b[0m\u001b[1;33m\u001b[0m\u001b[1;33m\u001b[0m\u001b[1;33m\u001b[0m\u001b[0m\n\u001b[1;32m---> 31\u001b[1;33m         \u001b[0mself\u001b[0m\u001b[1;33m.\u001b[0m\u001b[0mnet\u001b[0m\u001b[1;33m.\u001b[0m\u001b[0msetPreferableBackend\u001b[0m\u001b[1;33m(\u001b[0m\u001b[0mcv2\u001b[0m\u001b[1;33m.\u001b[0m\u001b[0mdnn\u001b[0m\u001b[1;33m.\u001b[0m\u001b[0mDNN_BACKEND_CUDA\u001b[0m\u001b[1;33m)\u001b[0m\u001b[1;33m\u001b[0m\u001b[1;33m\u001b[0m\u001b[0m\n\u001b[0m\u001b[0;32m     32\u001b[0m         \u001b[0mself\u001b[0m\u001b[1;33m.\u001b[0m\u001b[0mnet\u001b[0m\u001b[1;33m.\u001b[0m\u001b[0msetPreferableTarget\u001b[0m\u001b[1;33m(\u001b[0m\u001b[0mcv2\u001b[0m\u001b[1;33m.\u001b[0m\u001b[0mdnn\u001b[0m\u001b[1;33m.\u001b[0m\u001b[0mDNN_TARGET_CUDA\u001b[0m\u001b[1;33m)\u001b[0m\u001b[1;33m\u001b[0m\u001b[1;33m\u001b[0m\u001b[0m\n\u001b[0;32m     33\u001b[0m \u001b[1;33m\u001b[0m\u001b[0m\n",
      "\u001b[1;31mAttributeError\u001b[0m: module 'cv2.dnn' has no attribute 'DNN_BACKEND_CUDA'"
     ]
    }
   ],
   "source": [
    "test = faceblurring.faceblurring.FaceBlurer()"
   ]
  },
  {
   "cell_type": "code",
   "execution_count": 3,
   "id": "seventh-playlist",
   "metadata": {},
   "outputs": [],
   "source": [
    "folder_1 = r\"C:\\Users\\taren\\Desktop\\face_test\""
   ]
  },
  {
   "cell_type": "code",
   "execution_count": 5,
   "id": "heard-tragedy",
   "metadata": {},
   "outputs": [],
   "source": [
    "batch_size = 32"
   ]
  },
  {
   "cell_type": "code",
   "execution_count": 6,
   "id": "academic-payday",
   "metadata": {},
   "outputs": [
    {
     "name": "stdout",
     "output_type": "stream",
     "text": [
      "Wall time: 10.3 s\n"
     ]
    }
   ],
   "source": [
    "%%time\n",
    "#IMGSIZE = 416\n",
    "test.process_batch(folder_1, batch_size=batch_size,replace=False)"
   ]
  },
  {
   "cell_type": "code",
   "execution_count": null,
   "id": "norwegian-track",
   "metadata": {},
   "outputs": [],
   "source": [
    "%%time\n",
    "#IMGSIZE = 416\n",
    "test.process_folder(folder_1, parallel=True)"
   ]
  },
  {
   "cell_type": "code",
   "execution_count": 5,
   "id": "arctic-supervision",
   "metadata": {},
   "outputs": [
    {
     "name": "stdout",
     "output_type": "stream",
     "text": [
      "Wall time: 5.53 s\n"
     ]
    }
   ],
   "source": [
    "%%time\n",
    "#IMGSIZE = 320\n",
    "test.process_batch(folder_3, batch_size=batch_size,replace=False)"
   ]
  },
  {
   "cell_type": "code",
   "execution_count": 6,
   "id": "conditional-breakdown",
   "metadata": {},
   "outputs": [
    {
     "name": "stderr",
     "output_type": "stream",
     "text": [
      "Working on file: CC4B73632D38_2021_0210_144434_434_0006.jpg: 100%|█████████████████████| 43/43 [00:06<00:00,  6.87it/s]"
     ]
    },
    {
     "name": "stdout",
     "output_type": "stream",
     "text": [
      "Wall time: 6.26 s\n"
     ]
    },
    {
     "name": "stderr",
     "output_type": "stream",
     "text": [
      "\n"
     ]
    }
   ],
   "source": [
    "%%time\n",
    "#IMGSIZE = 320\n",
    "test.process_folder(folder_4, parallel=False)"
   ]
  },
  {
   "cell_type": "code",
   "execution_count": 5,
   "id": "seven-comedy",
   "metadata": {},
   "outputs": [
    {
     "name": "stdout",
     "output_type": "stream",
     "text": [
      "Wall time: 4.8 s\n"
     ]
    }
   ],
   "source": [
    "%%time\n",
    "#IMGSIZE = 288\n",
    "test.process_batch(folder_5, batch_size=batch_size,replace=False)"
   ]
  },
  {
   "cell_type": "code",
   "execution_count": 6,
   "id": "statutory-persian",
   "metadata": {},
   "outputs": [
    {
     "name": "stderr",
     "output_type": "stream",
     "text": [
      "Working on file: CC4B73632D38_2021_0210_144434_434_0006.jpg: 100%|█████████████████████| 43/43 [00:05<00:00,  7.71it/s]"
     ]
    },
    {
     "name": "stdout",
     "output_type": "stream",
     "text": [
      "Wall time: 5.58 s\n"
     ]
    },
    {
     "name": "stderr",
     "output_type": "stream",
     "text": [
      "\n"
     ]
    }
   ],
   "source": [
    "%%time\n",
    "#IMGSIZE = 288\n",
    "test.process_folder(folder_6, parallel=False)"
   ]
  }
 ],
 "metadata": {
  "kernelspec": {
   "display_name": "Python 3 (ipykernel)",
   "language": "python",
   "name": "python3"
  },
  "language_info": {
   "codemirror_mode": {
    "name": "ipython",
    "version": 3
   },
   "file_extension": ".py",
   "mimetype": "text/x-python",
   "name": "python",
   "nbconvert_exporter": "python",
   "pygments_lexer": "ipython3",
   "version": "3.8.8"
  }
 },
 "nbformat": 4,
 "nbformat_minor": 5
}
